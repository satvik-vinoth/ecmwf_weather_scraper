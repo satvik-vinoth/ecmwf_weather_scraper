{
 "cells": [
  {
   "cell_type": "code",
   "execution_count": 2,
   "metadata": {},
   "outputs": [
    {
     "name": "stdout",
     "output_type": "stream",
     "text": [
      "Downloaded: ecmwf_images\\base_time_Thu_13_Mar_2025_06_UTC.png\n",
      "Downloaded: ecmwf_images\\base_time_Thu_13_Mar_2025_00_UTC.png\n",
      "Downloaded: ecmwf_images\\base_time_Wed_12_Mar_2025_18_UTC.png\n",
      "Downloaded: ecmwf_images\\base_time_Wed_12_Mar_2025_12_UTC.png\n",
      "Downloaded: ecmwf_images\\base_time_Wed_12_Mar_2025_06_UTC.png\n",
      "Downloaded: ecmwf_images\\base_time_Wed_12_Mar_2025_00_UTC.png\n",
      "Downloaded: ecmwf_images\\base_time_Tue_11_Mar_2025_18_UTC.png\n",
      "Downloaded: ecmwf_images\\base_time_Tue_11_Mar_2025_12_UTC.png\n",
      "Downloaded: ecmwf_images\\base_time_Tue_11_Mar_2025_06_UTC.png\n",
      "Downloaded: ecmwf_images\\base_time_Tue_11_Mar_2025_00_UTC.png\n",
      "Downloaded: ecmwf_images\\base_time_Mon_10_Mar_2025_18_UTC.png\n",
      "Downloaded: ecmwf_images\\base_time_Mon_10_Mar_2025_12_UTC.png\n",
      "Downloaded: ecmwf_images\\base_time_Mon_10_Mar_2025_06_UTC.png\n",
      "Downloaded: ecmwf_images\\base_time_Mon_10_Mar_2025_00_UTC.png\n",
      "Downloaded: ecmwf_images\\valid_time_Thu_13_Mar_2025_06_UTC_(T+0).png\n",
      "Downloaded: ecmwf_images\\valid_time_Thu_13_Mar_2025_12_UTC_(T+6).png\n",
      "Downloaded: ecmwf_images\\valid_time_Thu_13_Mar_2025_18_UTC_(T+12).png\n",
      "Downloaded: ecmwf_images\\valid_time_Fri_14_Mar_2025_00_UTC_(T+18).png\n",
      "Downloaded: ecmwf_images\\valid_time_Fri_14_Mar_2025_06_UTC_(T+24).png\n",
      "Downloaded: ecmwf_images\\valid_time_Fri_14_Mar_2025_12_UTC_(T+30).png\n",
      "Downloaded: ecmwf_images\\valid_time_Fri_14_Mar_2025_18_UTC_(T+36).png\n",
      "Downloaded: ecmwf_images\\valid_time_Sat_15_Mar_2025_00_UTC_(T+42).png\n",
      "Downloaded: ecmwf_images\\valid_time_Sat_15_Mar_2025_06_UTC_(T+48).png\n",
      "Downloaded: ecmwf_images\\valid_time_Sat_15_Mar_2025_12_UTC_(T+54).png\n",
      "Downloaded: ecmwf_images\\valid_time_Sat_15_Mar_2025_18_UTC_(T+60).png\n",
      "All images downloaded successfully!\n"
     ]
    }
   ],
   "source": [
    "import os\n",
    "import time\n",
    "import requests\n",
    "from selenium import webdriver\n",
    "from selenium.webdriver.chrome.service import Service\n",
    "from selenium.webdriver.common.by import By\n",
    "from selenium.webdriver.support.ui import WebDriverWait\n",
    "from selenium.webdriver.support import expected_conditions as EC\n",
    "from webdriver_manager.chrome import ChromeDriverManager\n",
    "\n",
    "service = Service(ChromeDriverManager().install())\n",
    "\n",
    "options = webdriver.ChromeOptions()\n",
    "options.add_argument(\"--headless\")  \n",
    "options.add_argument(\"--no-sandbox\")\n",
    "options.add_argument(\"--disable-dev-shm-usage\")\n",
    "options.add_argument(\"--window-size=1920x1080\")\n",
    "\n",
    "driver = webdriver.Chrome(service=service, options=options)\n",
    "\n",
    "urls = {\n",
    "    \"base_time\": \"https://charts.ecmwf.int/catalogue/packages/ai_models/products/aifs_single_medium-mslp-wind850/overview/base_time?base_time=202503130600&projection=opencharts_southern_asia&valid_time=202503130600\",\n",
    "    \"valid_time\": \"https://charts.ecmwf.int/catalogue/packages/ai_models/products/aifs_single_medium-mslp-wind850/overview/valid_time?base_time=202503130600&projection=opencharts_southern_asia&valid_time=202503130600\"\n",
    "}\n",
    "\n",
    "os.makedirs(\"ecmwf_images\", exist_ok=True)\n",
    "\n",
    "for category, url in urls.items():\n",
    "    driver.get(url)\n",
    "    time.sleep(5)  \n",
    "    date_time_elements = driver.find_elements(By.XPATH, \"//div[contains(text(), 'UTC')]\")  \n",
    "    img_elements = driver.find_elements(By.TAG_NAME, \"img\")\n",
    "    for img, date_element in zip(img_elements, date_time_elements):\n",
    "        img_url = img.get_attribute(\"src\") \n",
    "        date_text = date_element.text.strip().replace(\" \", \"_\").replace(\":\", \"-\")  \n",
    "        if img_url and img_url.startswith(\"http\") and date_text:\n",
    "            img_name = f\"{category}_{date_text}.png\"\n",
    "            img_path = os.path.join(\"ecmwf_images\", img_name)\n",
    "            if os.path.exists(img_path):\n",
    "                print(f\"⚠ Skipped (Already Exists): {img_path}\")\n",
    "                continue \n",
    "            img_data = requests.get(img_url).content\n",
    "            with open(img_path, \"wb\") as file:\n",
    "                file.write(img_data)\n",
    "\n",
    "            print(f\"Downloaded: {img_path}\")\n",
    "\n",
    "driver.quit()\n",
    "\n",
    "print(\"All images downloaded successfully!\")\n"
   ]
  },
  {
   "cell_type": "code",
   "execution_count": null,
   "metadata": {},
   "outputs": [],
   "source": []
  }
 ],
 "metadata": {
  "kernelspec": {
   "display_name": "Python 3",
   "language": "python",
   "name": "python3"
  },
  "language_info": {
   "codemirror_mode": {
    "name": "ipython",
    "version": 3
   },
   "file_extension": ".py",
   "mimetype": "text/x-python",
   "name": "python",
   "nbconvert_exporter": "python",
   "pygments_lexer": "ipython3",
   "version": "3.13.1"
  }
 },
 "nbformat": 4,
 "nbformat_minor": 2
}
